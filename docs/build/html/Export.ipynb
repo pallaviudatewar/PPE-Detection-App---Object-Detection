{
 "cells": [
  {
   "cell_type": "markdown",
   "metadata": {},
   "source": [
    "## Export the Trained Model\n"
   ]
  },
  {
   "cell_type": "markdown",
   "metadata": {},
   "source": [
    "**We have finished training our model, it’s time to extract our saved_model. This saved_model will be used to perform object recognition.**"
   ]
  },
  {
   "cell_type": "markdown",
   "metadata": {},
   "source": [
    "**cd into training demo and run the command**"
   ]
  },
  {
   "cell_type": "code",
   "execution_count": null,
   "metadata": {
    "colab": {
     "base_uri": "https://localhost:8080/"
    },
    "id": "A8fVc-rtZjG6",
    "outputId": "7adc370c-1c8d-4dba-c6c0-b5028fe1b4bb"
   },
   "outputs": [
    {
     "name": "stdout",
     "output_type": "stream",
     "text": [
      "/content/drive/MyDrive/TensorFlow/workspace/training_demo\n"
     ]
    }
   ],
   "source": [
    "%cd /content/drive/MyDrive/TensorFlow/workspace/training_demo\n"
   ]
  },
  {
   "cell_type": "code",
   "execution_count": null,
   "metadata": {
    "colab": {
     "base_uri": "https://localhost:8080/"
    },
    "id": "VJgIsIilaVqD",
    "outputId": "4a402239-e9a5-4dd6-a587-bbbe5bb4b9e6"
   },
   "outputs": [],
   "source": [
    "!python export_tflite_graph_tf2.py --pipeline_config_path ./models/ssd_mobilenet_v2_320x320/pipeline.config --trained_checkpoint_dir ./models/ssd_mobilenet_v2_320x320/ --output_directory ./exported-models/my_model\n"
   ]
  },
  {
   "cell_type": "markdown",
   "metadata": {},
   "source": [
    "**The model will be saved in exported-models/my_model**"
   ]
  },
  {
   "cell_type": "markdown",
   "metadata": {},
   "source": [
    "## Convert a SavedModel to TFlite"
   ]
  },
  {
   "cell_type": "code",
   "execution_count": 21,
   "metadata": {
    "colab": {
     "base_uri": "https://localhost:8080/"
    },
    "id": "M8-3OIJeQxth",
    "outputId": "6d76419f-7d68-418a-ed73-5c01d180e027"
   },
   "outputs": [
    {
     "name": "stdout",
     "output_type": "stream",
     "text": [
      "/content/drive/MyDrive/TensorFlow/workspace/training_demo/Tensorflow Lite Model\n"
     ]
    }
   ],
   "source": [
    "%cd /content/drive/MyDrive/TensorFlow/workspace/training_demo/Tensorflow Lite Model"
   ]
  },
  {
   "cell_type": "code",
   "execution_count": null,
   "metadata": {
    "colab": {
     "base_uri": "https://localhost:8080/"
    },
    "id": "i_gqZ6gqYZp1",
    "outputId": "38043d05-6c1a-4c96-b7cf-604c7e23723a"
   },
   "outputs": [],
   "source": [
    "import tensorflow as tf\n",
    "\n",
    "converter = tf.compat.v1.lite.TFLiteConverter.from_saved_model(\n",
    "    '/content/drive/MyDrive/TensorFlow/workspace/training_demo/exported-models/my_model/saved_model/', input_arrays='normalized_input_image_tensor', input_shapes=None,tag_set=None,output_arrays='TFLite_Detection_PostProcess,TFLite_Detection_PostProcess:1,TFLite_Detection_PostProcess:2,TFLite_Detection_PostProcess:3')\n",
    "converter.allow_custom_ops = True\n",
    "tflite_model = converter.convert()\n",
    "open(\"converted_model.tflite\", \"wb\").write(tflite_model)"
   ]
  }
 ],
 "metadata": {
  "accelerator": "GPU",
  "colab": {
   "collapsed_sections": [],
   "name": "PPE_TensorFlow_Object_Detection_API.ipynb",
   "provenance": [],
   "toc_visible": true
  },
  "kernelspec": {
   "display_name": "Python 3",
   "language": "python",
   "name": "python3"
  },
  "language_info": {
   "codemirror_mode": {
    "name": "ipython",
    "version": 3
   },
   "file_extension": ".py",
   "mimetype": "text/x-python",
   "name": "python",
   "nbconvert_exporter": "python",
   "pygments_lexer": "ipython3",
   "version": "3.8.5"
  }
 },
 "nbformat": 4,
 "nbformat_minor": 1
}
