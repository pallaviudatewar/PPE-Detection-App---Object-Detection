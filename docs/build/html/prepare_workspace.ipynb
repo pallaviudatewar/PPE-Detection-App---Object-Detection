{
 "cells": [
  {
   "cell_type": "markdown",
   "metadata": {},
   "source": [
    "## Preparing the Workspace"
   ]
  },
  {
   "cell_type": "markdown",
   "metadata": {},
   "source": [
    "### Mount Google Drive"
   ]
  },
  {
   "cell_type": "code",
   "execution_count": null,
   "metadata": {
    "colab": {
     "base_uri": "https://localhost:8080/"
    },
    "id": "OhtOx7sdZoYk",
    "outputId": "a980353f-10d0-4ce2-bb85-d4e630e906bd"
   },
   "outputs": [],
   "source": [
    "from google.colab import drive\n",
    "drive.mount('/content/drive')"
   ]
  },
  {
   "cell_type": "markdown",
   "metadata": {},
   "source": [
    "### Download TensorFlow Model Garden"
   ]
  },
  {
   "cell_type": "code",
   "execution_count": 2,
   "metadata": {
    "colab": {
     "base_uri": "https://localhost:8080/"
    },
    "id": "0dW4lm8371iZ",
    "outputId": "c9169d14-ffbe-40a7-bc57-cc8a798049a1"
   },
   "outputs": [
    {
     "name": "stdout",
     "output_type": "stream",
     "text": [
      "/content/drive/My Drive/TensorFlow\n",
      "/content/drive/MyDrive/TensorFlow/models\n"
     ]
    }
   ],
   "source": [
    "\"\"\"cd into the TensorFlow directory in your Google Drive\"\"\"\n",
    "%cd '/content/drive/My Drive/TensorFlow'\n",
    "\n",
    "\"\"\"and clone the TensorFlow Model Garden repository\"\"\"\n",
    "#!git clone https://github.com/tensorflow/models.git'''\n",
    "\n",
    "#using a older version of repo (21 Sept 2020)\n",
    "%cd '/content/drive/MyDrive/TensorFlow/models'\n",
    "\"\"\"!git checkout -f e04dafd04d69053d3733bb91d47d0d95bc2c8199\"\"\""
   ]
  },
  {
   "cell_type": "markdown",
   "metadata": {},
   "source": [
    "###  Install some required libraries and tools"
   ]
  },
  {
   "cell_type": "code",
   "execution_count": null,
   "metadata": {
    "colab": {
     "base_uri": "https://localhost:8080/"
    },
    "id": "So0uPn6C8j-Z",
    "outputId": "5d264144-e13d-4b3b-8e84-b7ea522f02cd",
    "scrolled": true
   },
   "outputs": [],
   "source": [
    "!apt-get install protobuf-compiler python-lxml python-pil\n",
    "!pip install Cython pandas tf-slim lvis"
   ]
  },
  {
   "cell_type": "markdown",
   "metadata": {},
   "source": [
    "### Compile the Protobuf libraries"
   ]
  },
  {
   "cell_type": "code",
   "execution_count": 4,
   "metadata": {
    "colab": {
     "base_uri": "https://localhost:8080/"
    },
    "id": "0BI9kNtN9Hca",
    "outputId": "7a7a377e-bab5-4a33-f721-69a20a49cbdf"
   },
   "outputs": [
    {
     "name": "stdout",
     "output_type": "stream",
     "text": [
      "/content/drive/My Drive/TensorFlow/models/research\n"
     ]
    }
   ],
   "source": [
    "#cd into 'TensorFlow/models/research'\n",
    "%cd '/content/drive/My Drive/TensorFlow/models/research/'\n",
    "!protoc object_detection/protos/*.proto --python_out=."
   ]
  },
  {
   "cell_type": "markdown",
   "metadata": {},
   "source": [
    "### Set the environment"
   ]
  },
  {
   "cell_type": "code",
   "execution_count": 5,
   "metadata": {
    "id": "wEAg3ksA9Pih"
   },
   "outputs": [],
   "source": [
    "import os\n",
    "import sys\n",
    "os.environ['PYTHONPATH']+=\":/content/drive/My Drive/TensorFlow/models\"\n",
    "sys.path.append(\"/content/drive/My Drive/TensorFlow/models/research\")"
   ]
  },
  {
   "cell_type": "markdown",
   "metadata": {},
   "source": [
    "### Build and Install setup.py"
   ]
  },
  {
   "cell_type": "markdown",
   "metadata": {},
   "source": [
    "#### Setup.py consists of setup script for object_detection with TF2.0"
   ]
  },
  {
   "cell_type": "code",
   "execution_count": null,
   "metadata": {
    "colab": {
     "base_uri": "https://localhost:8080/"
    },
    "id": "UT9-acjE9d2K",
    "outputId": "7595f2ea-b41f-4af7-9250-cb61cec9993f"
   },
   "outputs": [],
   "source": [
    "!python setup.py build\n",
    "!python setup.py install"
   ]
  },
  {
   "cell_type": "markdown",
   "metadata": {},
   "source": [
    "### Test the Installation"
   ]
  },
  {
   "cell_type": "markdown",
   "metadata": {},
   "source": [
    "#### If all the installations were successful, you should see output similar to the one shown below."
   ]
  },
  {
   "cell_type": "code",
   "execution_count": 7,
   "metadata": {
    "colab": {
     "base_uri": "https://localhost:8080/"
    },
    "id": "7M5qUba89u3S",
    "outputId": "89ac315e-4e7e-43d3-e753-784739bfec21"
   },
   "outputs": [
    {
     "name": "stdout",
     "output_type": "stream",
     "text": [
      "/content/drive/My Drive/TensorFlow/models/research/object_detection/builders\n",
      "2021-05-28 04:04:40.120409: I tensorflow/stream_executor/platform/default/dso_loader.cc:53] Successfully opened dynamic library libcudart.so.11.0\n",
      "Running tests under Python 3.7.10: /usr/bin/python3\n",
      "[ RUN      ] ModelBuilderTF2Test.test_create_center_net_model\n",
      "2021-05-28 04:04:48.533686: I tensorflow/stream_executor/platform/default/dso_loader.cc:53] Successfully opened dynamic library libcuda.so.1\n",
      "2021-05-28 04:04:48.620658: E tensorflow/stream_executor/cuda/cuda_driver.cc:328] failed call to cuInit: CUDA_ERROR_NO_DEVICE: no CUDA-capable device is detected\n",
      "2021-05-28 04:04:48.620722: I tensorflow/stream_executor/cuda/cuda_diagnostics.cc:156] kernel driver does not appear to be running on this host (5ddb413934c9): /proc/driver/nvidia/version does not exist\n",
      "INFO:tensorflow:time(__main__.ModelBuilderTF2Test.test_create_center_net_model): 0.69s\n",
      "I0528 04:04:48.940666 139945622009728 test_util.py:2103] time(__main__.ModelBuilderTF2Test.test_create_center_net_model): 0.69s\n",
      "[       OK ] ModelBuilderTF2Test.test_create_center_net_model\n",
      "[ RUN      ] ModelBuilderTF2Test.test_create_center_net_model_from_keypoints\n",
      "INFO:tensorflow:time(__main__.ModelBuilderTF2Test.test_create_center_net_model_from_keypoints): 0.39s\n",
      "I0528 04:04:49.326473 139945622009728 test_util.py:2103] time(__main__.ModelBuilderTF2Test.test_create_center_net_model_from_keypoints): 0.39s\n",
      "[       OK ] ModelBuilderTF2Test.test_create_center_net_model_from_keypoints\n",
      "[ RUN      ] ModelBuilderTF2Test.test_create_experimental_model\n",
      "INFO:tensorflow:time(__main__.ModelBuilderTF2Test.test_create_experimental_model): 0.0s\n",
      "I0528 04:04:49.327181 139945622009728 test_util.py:2103] time(__main__.ModelBuilderTF2Test.test_create_experimental_model): 0.0s\n",
      "[       OK ] ModelBuilderTF2Test.test_create_experimental_model\n",
      "[ RUN      ] ModelBuilderTF2Test.test_create_faster_rcnn_from_config_with_crop_feature0 (True)\n",
      "INFO:tensorflow:time(__main__.ModelBuilderTF2Test.test_create_faster_rcnn_from_config_with_crop_feature0 (True)): 0.02s\n",
      "I0528 04:04:49.349498 139945622009728 test_util.py:2103] time(__main__.ModelBuilderTF2Test.test_create_faster_rcnn_from_config_with_crop_feature0 (True)): 0.02s\n",
      "[       OK ] ModelBuilderTF2Test.test_create_faster_rcnn_from_config_with_crop_feature0 (True)\n",
      "[ RUN      ] ModelBuilderTF2Test.test_create_faster_rcnn_from_config_with_crop_feature1 (False)\n",
      "INFO:tensorflow:time(__main__.ModelBuilderTF2Test.test_create_faster_rcnn_from_config_with_crop_feature1 (False)): 0.01s\n",
      "I0528 04:04:49.364803 139945622009728 test_util.py:2103] time(__main__.ModelBuilderTF2Test.test_create_faster_rcnn_from_config_with_crop_feature1 (False)): 0.01s\n",
      "[       OK ] ModelBuilderTF2Test.test_create_faster_rcnn_from_config_with_crop_feature1 (False)\n",
      "[ RUN      ] ModelBuilderTF2Test.test_create_faster_rcnn_model_from_config_with_example_miner\n",
      "INFO:tensorflow:time(__main__.ModelBuilderTF2Test.test_create_faster_rcnn_model_from_config_with_example_miner): 0.02s\n",
      "I0528 04:04:49.380524 139945622009728 test_util.py:2103] time(__main__.ModelBuilderTF2Test.test_create_faster_rcnn_model_from_config_with_example_miner): 0.02s\n",
      "[       OK ] ModelBuilderTF2Test.test_create_faster_rcnn_model_from_config_with_example_miner\n",
      "[ RUN      ] ModelBuilderTF2Test.test_create_faster_rcnn_models_from_config_faster_rcnn_with_matmul\n",
      "INFO:tensorflow:time(__main__.ModelBuilderTF2Test.test_create_faster_rcnn_models_from_config_faster_rcnn_with_matmul): 0.1s\n",
      "I0528 04:04:49.484913 139945622009728 test_util.py:2103] time(__main__.ModelBuilderTF2Test.test_create_faster_rcnn_models_from_config_faster_rcnn_with_matmul): 0.1s\n",
      "[       OK ] ModelBuilderTF2Test.test_create_faster_rcnn_models_from_config_faster_rcnn_with_matmul\n",
      "[ RUN      ] ModelBuilderTF2Test.test_create_faster_rcnn_models_from_config_faster_rcnn_without_matmul\n",
      "INFO:tensorflow:time(__main__.ModelBuilderTF2Test.test_create_faster_rcnn_models_from_config_faster_rcnn_without_matmul): 0.1s\n",
      "I0528 04:04:49.583256 139945622009728 test_util.py:2103] time(__main__.ModelBuilderTF2Test.test_create_faster_rcnn_models_from_config_faster_rcnn_without_matmul): 0.1s\n",
      "[       OK ] ModelBuilderTF2Test.test_create_faster_rcnn_models_from_config_faster_rcnn_without_matmul\n",
      "[ RUN      ] ModelBuilderTF2Test.test_create_faster_rcnn_models_from_config_mask_rcnn_with_matmul\n",
      "INFO:tensorflow:time(__main__.ModelBuilderTF2Test.test_create_faster_rcnn_models_from_config_mask_rcnn_with_matmul): 0.11s\n",
      "I0528 04:04:49.691890 139945622009728 test_util.py:2103] time(__main__.ModelBuilderTF2Test.test_create_faster_rcnn_models_from_config_mask_rcnn_with_matmul): 0.11s\n",
      "[       OK ] ModelBuilderTF2Test.test_create_faster_rcnn_models_from_config_mask_rcnn_with_matmul\n",
      "[ RUN      ] ModelBuilderTF2Test.test_create_faster_rcnn_models_from_config_mask_rcnn_without_matmul\n",
      "INFO:tensorflow:time(__main__.ModelBuilderTF2Test.test_create_faster_rcnn_models_from_config_mask_rcnn_without_matmul): 0.1s\n",
      "I0528 04:04:49.791621 139945622009728 test_util.py:2103] time(__main__.ModelBuilderTF2Test.test_create_faster_rcnn_models_from_config_mask_rcnn_without_matmul): 0.1s\n",
      "[       OK ] ModelBuilderTF2Test.test_create_faster_rcnn_models_from_config_mask_rcnn_without_matmul\n",
      "[ RUN      ] ModelBuilderTF2Test.test_create_rfcn_model_from_config\n",
      "INFO:tensorflow:time(__main__.ModelBuilderTF2Test.test_create_rfcn_model_from_config): 0.1s\n",
      "I0528 04:04:49.896024 139945622009728 test_util.py:2103] time(__main__.ModelBuilderTF2Test.test_create_rfcn_model_from_config): 0.1s\n",
      "[       OK ] ModelBuilderTF2Test.test_create_rfcn_model_from_config\n",
      "[ RUN      ] ModelBuilderTF2Test.test_create_ssd_fpn_model_from_config\n",
      "INFO:tensorflow:time(__main__.ModelBuilderTF2Test.test_create_ssd_fpn_model_from_config): 0.04s\n",
      "I0528 04:04:49.932116 139945622009728 test_util.py:2103] time(__main__.ModelBuilderTF2Test.test_create_ssd_fpn_model_from_config): 0.04s\n",
      "[       OK ] ModelBuilderTF2Test.test_create_ssd_fpn_model_from_config\n",
      "[ RUN      ] ModelBuilderTF2Test.test_create_ssd_models_from_config\n",
      "I0528 04:04:50.123521 139945622009728 ssd_efficientnet_bifpn_feature_extractor.py:143] EfficientDet EfficientNet backbone version: efficientnet-b0\n",
      "I0528 04:04:50.123695 139945622009728 ssd_efficientnet_bifpn_feature_extractor.py:144] EfficientDet BiFPN num filters: 64\n",
      "I0528 04:04:50.123755 139945622009728 ssd_efficientnet_bifpn_feature_extractor.py:146] EfficientDet BiFPN num iterations: 3\n",
      "I0528 04:04:50.126841 139945622009728 efficientnet_model.py:147] round_filter input=32 output=32\n",
      "I0528 04:04:50.186299 139945622009728 efficientnet_model.py:147] round_filter input=32 output=32\n",
      "I0528 04:04:50.186495 139945622009728 efficientnet_model.py:147] round_filter input=16 output=16\n",
      "I0528 04:04:50.249292 139945622009728 efficientnet_model.py:147] round_filter input=16 output=16\n",
      "I0528 04:04:50.249497 139945622009728 efficientnet_model.py:147] round_filter input=24 output=24\n",
      "I0528 04:04:50.390455 139945622009728 efficientnet_model.py:147] round_filter input=24 output=24\n",
      "I0528 04:04:50.390638 139945622009728 efficientnet_model.py:147] round_filter input=40 output=40\n",
      "I0528 04:04:50.535065 139945622009728 efficientnet_model.py:147] round_filter input=40 output=40\n",
      "I0528 04:04:50.535232 139945622009728 efficientnet_model.py:147] round_filter input=80 output=80\n",
      "I0528 04:04:50.772549 139945622009728 efficientnet_model.py:147] round_filter input=80 output=80\n",
      "I0528 04:04:50.772794 139945622009728 efficientnet_model.py:147] round_filter input=112 output=112\n",
      "I0528 04:04:51.027603 139945622009728 efficientnet_model.py:147] round_filter input=112 output=112\n",
      "I0528 04:04:51.027776 139945622009728 efficientnet_model.py:147] round_filter input=192 output=192\n",
      "I0528 04:04:51.367208 139945622009728 efficientnet_model.py:147] round_filter input=192 output=192\n",
      "I0528 04:04:51.367383 139945622009728 efficientnet_model.py:147] round_filter input=320 output=320\n",
      "I0528 04:04:51.453163 139945622009728 efficientnet_model.py:147] round_filter input=1280 output=1280\n",
      "I0528 04:04:51.509251 139945622009728 efficientnet_model.py:458] Building model efficientnet with params ModelConfig(width_coefficient=1.0, depth_coefficient=1.0, resolution=224, dropout_rate=0.2, blocks=(BlockConfig(input_filters=32, output_filters=16, kernel_size=3, num_repeat=1, expand_ratio=1, strides=(1, 1), se_ratio=0.25, id_skip=True, fused_conv=False, conv_type='depthwise'), BlockConfig(input_filters=16, output_filters=24, kernel_size=3, num_repeat=2, expand_ratio=6, strides=(2, 2), se_ratio=0.25, id_skip=True, fused_conv=False, conv_type='depthwise'), BlockConfig(input_filters=24, output_filters=40, kernel_size=5, num_repeat=2, expand_ratio=6, strides=(2, 2), se_ratio=0.25, id_skip=True, fused_conv=False, conv_type='depthwise'), BlockConfig(input_filters=40, output_filters=80, kernel_size=3, num_repeat=3, expand_ratio=6, strides=(2, 2), se_ratio=0.25, id_skip=True, fused_conv=False, conv_type='depthwise'), BlockConfig(input_filters=80, output_filters=112, kernel_size=5, num_repeat=3, expand_ratio=6, strides=(1, 1), se_ratio=0.25, id_skip=True, fused_conv=False, conv_type='depthwise'), BlockConfig(input_filters=112, output_filters=192, kernel_size=5, num_repeat=4, expand_ratio=6, strides=(2, 2), se_ratio=0.25, id_skip=True, fused_conv=False, conv_type='depthwise'), BlockConfig(input_filters=192, output_filters=320, kernel_size=3, num_repeat=1, expand_ratio=6, strides=(1, 1), se_ratio=0.25, id_skip=True, fused_conv=False, conv_type='depthwise')), stem_base_filters=32, top_base_filters=1280, activation='simple_swish', batch_norm='default', bn_momentum=0.99, bn_epsilon=0.001, weight_decay=5e-06, drop_connect_rate=0.2, depth_divisor=8, min_depth=None, use_se=True, input_channels=3, num_classes=1000, model_name='efficientnet', rescale_input=False, data_format='channels_last', dtype='float32')\n",
      "I0528 04:04:51.567275 139945622009728 ssd_efficientnet_bifpn_feature_extractor.py:143] EfficientDet EfficientNet backbone version: efficientnet-b1\n",
      "I0528 04:04:51.567583 139945622009728 ssd_efficientnet_bifpn_feature_extractor.py:144] EfficientDet BiFPN num filters: 88\n",
      "I0528 04:04:51.567712 139945622009728 ssd_efficientnet_bifpn_feature_extractor.py:146] EfficientDet BiFPN num iterations: 4\n",
      "I0528 04:04:51.569694 139945622009728 efficientnet_model.py:147] round_filter input=32 output=32\n",
      "I0528 04:04:51.585046 139945622009728 efficientnet_model.py:147] round_filter input=32 output=32\n",
      "I0528 04:04:51.585180 139945622009728 efficientnet_model.py:147] round_filter input=16 output=16\n",
      "I0528 04:04:51.795959 139945622009728 efficientnet_model.py:147] round_filter input=16 output=16\n",
      "I0528 04:04:51.796162 139945622009728 efficientnet_model.py:147] round_filter input=24 output=24\n",
      "I0528 04:04:52.019755 139945622009728 efficientnet_model.py:147] round_filter input=24 output=24\n",
      "I0528 04:04:52.019963 139945622009728 efficientnet_model.py:147] round_filter input=40 output=40\n",
      "I0528 04:04:52.230946 139945622009728 efficientnet_model.py:147] round_filter input=40 output=40\n",
      "I0528 04:04:52.231117 139945622009728 efficientnet_model.py:147] round_filter input=80 output=80\n",
      "I0528 04:04:52.522320 139945622009728 efficientnet_model.py:147] round_filter input=80 output=80\n",
      "I0528 04:04:52.522501 139945622009728 efficientnet_model.py:147] round_filter input=112 output=112\n",
      "I0528 04:04:52.828221 139945622009728 efficientnet_model.py:147] round_filter input=112 output=112\n",
      "I0528 04:04:52.828415 139945622009728 efficientnet_model.py:147] round_filter input=192 output=192\n",
      "I0528 04:04:53.262471 139945622009728 efficientnet_model.py:147] round_filter input=192 output=192\n",
      "I0528 04:04:53.262654 139945622009728 efficientnet_model.py:147] round_filter input=320 output=320\n",
      "I0528 04:04:53.468185 139945622009728 efficientnet_model.py:147] round_filter input=1280 output=1280\n",
      "I0528 04:04:53.525043 139945622009728 efficientnet_model.py:458] Building model efficientnet with params ModelConfig(width_coefficient=1.0, depth_coefficient=1.1, resolution=240, dropout_rate=0.2, blocks=(BlockConfig(input_filters=32, output_filters=16, kernel_size=3, num_repeat=1, expand_ratio=1, strides=(1, 1), se_ratio=0.25, id_skip=True, fused_conv=False, conv_type='depthwise'), BlockConfig(input_filters=16, output_filters=24, kernel_size=3, num_repeat=2, expand_ratio=6, strides=(2, 2), se_ratio=0.25, id_skip=True, fused_conv=False, conv_type='depthwise'), BlockConfig(input_filters=24, output_filters=40, kernel_size=5, num_repeat=2, expand_ratio=6, strides=(2, 2), se_ratio=0.25, id_skip=True, fused_conv=False, conv_type='depthwise'), BlockConfig(input_filters=40, output_filters=80, kernel_size=3, num_repeat=3, expand_ratio=6, strides=(2, 2), se_ratio=0.25, id_skip=True, fused_conv=False, conv_type='depthwise'), BlockConfig(input_filters=80, output_filters=112, kernel_size=5, num_repeat=3, expand_ratio=6, strides=(1, 1), se_ratio=0.25, id_skip=True, fused_conv=False, conv_type='depthwise'), BlockConfig(input_filters=112, output_filters=192, kernel_size=5, num_repeat=4, expand_ratio=6, strides=(2, 2), se_ratio=0.25, id_skip=True, fused_conv=False, conv_type='depthwise'), BlockConfig(input_filters=192, output_filters=320, kernel_size=3, num_repeat=1, expand_ratio=6, strides=(1, 1), se_ratio=0.25, id_skip=True, fused_conv=False, conv_type='depthwise')), stem_base_filters=32, top_base_filters=1280, activation='simple_swish', batch_norm='default', bn_momentum=0.99, bn_epsilon=0.001, weight_decay=5e-06, drop_connect_rate=0.2, depth_divisor=8, min_depth=None, use_se=True, input_channels=3, num_classes=1000, model_name='efficientnet', rescale_input=False, data_format='channels_last', dtype='float32')\n",
      "I0528 04:04:53.592547 139945622009728 ssd_efficientnet_bifpn_feature_extractor.py:143] EfficientDet EfficientNet backbone version: efficientnet-b2\n",
      "I0528 04:04:53.592729 139945622009728 ssd_efficientnet_bifpn_feature_extractor.py:144] EfficientDet BiFPN num filters: 112\n",
      "I0528 04:04:53.592815 139945622009728 ssd_efficientnet_bifpn_feature_extractor.py:146] EfficientDet BiFPN num iterations: 5\n",
      "I0528 04:04:53.594547 139945622009728 efficientnet_model.py:147] round_filter input=32 output=32\n",
      "I0528 04:04:53.612350 139945622009728 efficientnet_model.py:147] round_filter input=32 output=32\n",
      "I0528 04:04:53.612534 139945622009728 efficientnet_model.py:147] round_filter input=16 output=16\n",
      "I0528 04:04:53.724116 139945622009728 efficientnet_model.py:147] round_filter input=16 output=16\n",
      "I0528 04:04:53.724306 139945622009728 efficientnet_model.py:147] round_filter input=24 output=24\n",
      "I0528 04:04:53.954990 139945622009728 efficientnet_model.py:147] round_filter input=24 output=24\n",
      "I0528 04:04:53.955184 139945622009728 efficientnet_model.py:147] round_filter input=40 output=48\n",
      "I0528 04:04:54.171985 139945622009728 efficientnet_model.py:147] round_filter input=40 output=48\n",
      "I0528 04:04:54.172173 139945622009728 efficientnet_model.py:147] round_filter input=80 output=88\n",
      "I0528 04:04:54.470157 139945622009728 efficientnet_model.py:147] round_filter input=80 output=88\n",
      "I0528 04:04:54.470329 139945622009728 efficientnet_model.py:147] round_filter input=112 output=120\n",
      "I0528 04:04:54.779196 139945622009728 efficientnet_model.py:147] round_filter input=112 output=120\n",
      "I0528 04:04:54.779385 139945622009728 efficientnet_model.py:147] round_filter input=192 output=208\n",
      "I0528 04:04:55.227741 139945622009728 efficientnet_model.py:147] round_filter input=192 output=208\n",
      "I0528 04:04:55.227925 139945622009728 efficientnet_model.py:147] round_filter input=320 output=352\n",
      "I0528 04:04:55.600068 139945622009728 efficientnet_model.py:147] round_filter input=1280 output=1408\n",
      "I0528 04:04:55.654112 139945622009728 efficientnet_model.py:458] Building model efficientnet with params ModelConfig(width_coefficient=1.1, depth_coefficient=1.2, resolution=260, dropout_rate=0.3, blocks=(BlockConfig(input_filters=32, output_filters=16, kernel_size=3, num_repeat=1, expand_ratio=1, strides=(1, 1), se_ratio=0.25, id_skip=True, fused_conv=False, conv_type='depthwise'), BlockConfig(input_filters=16, output_filters=24, kernel_size=3, num_repeat=2, expand_ratio=6, strides=(2, 2), se_ratio=0.25, id_skip=True, fused_conv=False, conv_type='depthwise'), BlockConfig(input_filters=24, output_filters=40, kernel_size=5, num_repeat=2, expand_ratio=6, strides=(2, 2), se_ratio=0.25, id_skip=True, fused_conv=False, conv_type='depthwise'), BlockConfig(input_filters=40, output_filters=80, kernel_size=3, num_repeat=3, expand_ratio=6, strides=(2, 2), se_ratio=0.25, id_skip=True, fused_conv=False, conv_type='depthwise'), BlockConfig(input_filters=80, output_filters=112, kernel_size=5, num_repeat=3, expand_ratio=6, strides=(1, 1), se_ratio=0.25, id_skip=True, fused_conv=False, conv_type='depthwise'), BlockConfig(input_filters=112, output_filters=192, kernel_size=5, num_repeat=4, expand_ratio=6, strides=(2, 2), se_ratio=0.25, id_skip=True, fused_conv=False, conv_type='depthwise'), BlockConfig(input_filters=192, output_filters=320, kernel_size=3, num_repeat=1, expand_ratio=6, strides=(1, 1), se_ratio=0.25, id_skip=True, fused_conv=False, conv_type='depthwise')), stem_base_filters=32, top_base_filters=1280, activation='simple_swish', batch_norm='default', bn_momentum=0.99, bn_epsilon=0.001, weight_decay=5e-06, drop_connect_rate=0.2, depth_divisor=8, min_depth=None, use_se=True, input_channels=3, num_classes=1000, model_name='efficientnet', rescale_input=False, data_format='channels_last', dtype='float32')\n",
      "I0528 04:04:55.717802 139945622009728 ssd_efficientnet_bifpn_feature_extractor.py:143] EfficientDet EfficientNet backbone version: efficientnet-b3\n",
      "I0528 04:04:55.717967 139945622009728 ssd_efficientnet_bifpn_feature_extractor.py:144] EfficientDet BiFPN num filters: 160\n",
      "I0528 04:04:55.718027 139945622009728 ssd_efficientnet_bifpn_feature_extractor.py:146] EfficientDet BiFPN num iterations: 6\n",
      "I0528 04:04:55.719681 139945622009728 efficientnet_model.py:147] round_filter input=32 output=40\n",
      "I0528 04:04:55.734101 139945622009728 efficientnet_model.py:147] round_filter input=32 output=40\n",
      "I0528 04:04:55.734234 139945622009728 efficientnet_model.py:147] round_filter input=16 output=24\n",
      "I0528 04:04:55.844461 139945622009728 efficientnet_model.py:147] round_filter input=16 output=24\n",
      "I0528 04:04:55.844632 139945622009728 efficientnet_model.py:147] round_filter input=24 output=32\n",
      "I0528 04:04:56.109298 139945622009728 efficientnet_model.py:147] round_filter input=24 output=32\n",
      "I0528 04:04:56.109501 139945622009728 efficientnet_model.py:147] round_filter input=40 output=48\n",
      "I0528 04:04:56.321840 139945622009728 efficientnet_model.py:147] round_filter input=40 output=48\n",
      "I0528 04:04:56.322014 139945622009728 efficientnet_model.py:147] round_filter input=80 output=96\n",
      "I0528 04:04:56.702598 139945622009728 efficientnet_model.py:147] round_filter input=80 output=96\n",
      "I0528 04:04:56.702785 139945622009728 efficientnet_model.py:147] round_filter input=112 output=136\n",
      "I0528 04:04:57.099889 139945622009728 efficientnet_model.py:147] round_filter input=112 output=136\n",
      "I0528 04:04:57.100069 139945622009728 efficientnet_model.py:147] round_filter input=192 output=232\n",
      "I0528 04:04:57.712584 139945622009728 efficientnet_model.py:147] round_filter input=192 output=232\n",
      "I0528 04:04:57.712802 139945622009728 efficientnet_model.py:147] round_filter input=320 output=384\n",
      "I0528 04:04:57.933220 139945622009728 efficientnet_model.py:147] round_filter input=1280 output=1536\n",
      "I0528 04:04:58.000700 139945622009728 efficientnet_model.py:458] Building model efficientnet with params ModelConfig(width_coefficient=1.2, depth_coefficient=1.4, resolution=300, dropout_rate=0.3, blocks=(BlockConfig(input_filters=32, output_filters=16, kernel_size=3, num_repeat=1, expand_ratio=1, strides=(1, 1), se_ratio=0.25, id_skip=True, fused_conv=False, conv_type='depthwise'), BlockConfig(input_filters=16, output_filters=24, kernel_size=3, num_repeat=2, expand_ratio=6, strides=(2, 2), se_ratio=0.25, id_skip=True, fused_conv=False, conv_type='depthwise'), BlockConfig(input_filters=24, output_filters=40, kernel_size=5, num_repeat=2, expand_ratio=6, strides=(2, 2), se_ratio=0.25, id_skip=True, fused_conv=False, conv_type='depthwise'), BlockConfig(input_filters=40, output_filters=80, kernel_size=3, num_repeat=3, expand_ratio=6, strides=(2, 2), se_ratio=0.25, id_skip=True, fused_conv=False, conv_type='depthwise'), BlockConfig(input_filters=80, output_filters=112, kernel_size=5, num_repeat=3, expand_ratio=6, strides=(1, 1), se_ratio=0.25, id_skip=True, fused_conv=False, conv_type='depthwise'), BlockConfig(input_filters=112, output_filters=192, kernel_size=5, num_repeat=4, expand_ratio=6, strides=(2, 2), se_ratio=0.25, id_skip=True, fused_conv=False, conv_type='depthwise'), BlockConfig(input_filters=192, output_filters=320, kernel_size=3, num_repeat=1, expand_ratio=6, strides=(1, 1), se_ratio=0.25, id_skip=True, fused_conv=False, conv_type='depthwise')), stem_base_filters=32, top_base_filters=1280, activation='simple_swish', batch_norm='default', bn_momentum=0.99, bn_epsilon=0.001, weight_decay=5e-06, drop_connect_rate=0.2, depth_divisor=8, min_depth=None, use_se=True, input_channels=3, num_classes=1000, model_name='efficientnet', rescale_input=False, data_format='channels_last', dtype='float32')\n",
      "I0528 04:04:58.073702 139945622009728 ssd_efficientnet_bifpn_feature_extractor.py:143] EfficientDet EfficientNet backbone version: efficientnet-b4\n",
      "I0528 04:04:58.073883 139945622009728 ssd_efficientnet_bifpn_feature_extractor.py:144] EfficientDet BiFPN num filters: 224\n",
      "I0528 04:04:58.073942 139945622009728 ssd_efficientnet_bifpn_feature_extractor.py:146] EfficientDet BiFPN num iterations: 7\n",
      "I0528 04:04:58.075652 139945622009728 efficientnet_model.py:147] round_filter input=32 output=48\n",
      "I0528 04:04:58.090444 139945622009728 efficientnet_model.py:147] round_filter input=32 output=48\n",
      "I0528 04:04:58.090575 139945622009728 efficientnet_model.py:147] round_filter input=16 output=24\n",
      "I0528 04:04:58.211299 139945622009728 efficientnet_model.py:147] round_filter input=16 output=24\n",
      "I0528 04:04:58.211509 139945622009728 efficientnet_model.py:147] round_filter input=24 output=32\n",
      "I0528 04:04:58.517726 139945622009728 efficientnet_model.py:147] round_filter input=24 output=32\n",
      "I0528 04:04:58.517901 139945622009728 efficientnet_model.py:147] round_filter input=40 output=56\n",
      "I0528 04:04:58.813456 139945622009728 efficientnet_model.py:147] round_filter input=40 output=56\n",
      "I0528 04:04:58.813647 139945622009728 efficientnet_model.py:147] round_filter input=80 output=112\n",
      "I0528 04:04:59.288144 139945622009728 efficientnet_model.py:147] round_filter input=80 output=112\n",
      "I0528 04:04:59.288323 139945622009728 efficientnet_model.py:147] round_filter input=112 output=160\n",
      "I0528 04:05:00.021888 139945622009728 efficientnet_model.py:147] round_filter input=112 output=160\n",
      "I0528 04:05:00.022084 139945622009728 efficientnet_model.py:147] round_filter input=192 output=272\n",
      "I0528 04:05:00.847936 139945622009728 efficientnet_model.py:147] round_filter input=192 output=272\n",
      "I0528 04:05:00.848124 139945622009728 efficientnet_model.py:147] round_filter input=320 output=448\n",
      "I0528 04:05:01.135828 139945622009728 efficientnet_model.py:147] round_filter input=1280 output=1792\n",
      "I0528 04:05:01.204993 139945622009728 efficientnet_model.py:458] Building model efficientnet with params ModelConfig(width_coefficient=1.4, depth_coefficient=1.8, resolution=380, dropout_rate=0.4, blocks=(BlockConfig(input_filters=32, output_filters=16, kernel_size=3, num_repeat=1, expand_ratio=1, strides=(1, 1), se_ratio=0.25, id_skip=True, fused_conv=False, conv_type='depthwise'), BlockConfig(input_filters=16, output_filters=24, kernel_size=3, num_repeat=2, expand_ratio=6, strides=(2, 2), se_ratio=0.25, id_skip=True, fused_conv=False, conv_type='depthwise'), BlockConfig(input_filters=24, output_filters=40, kernel_size=5, num_repeat=2, expand_ratio=6, strides=(2, 2), se_ratio=0.25, id_skip=True, fused_conv=False, conv_type='depthwise'), BlockConfig(input_filters=40, output_filters=80, kernel_size=3, num_repeat=3, expand_ratio=6, strides=(2, 2), se_ratio=0.25, id_skip=True, fused_conv=False, conv_type='depthwise'), BlockConfig(input_filters=80, output_filters=112, kernel_size=5, num_repeat=3, expand_ratio=6, strides=(1, 1), se_ratio=0.25, id_skip=True, fused_conv=False, conv_type='depthwise'), BlockConfig(input_filters=112, output_filters=192, kernel_size=5, num_repeat=4, expand_ratio=6, strides=(2, 2), se_ratio=0.25, id_skip=True, fused_conv=False, conv_type='depthwise'), BlockConfig(input_filters=192, output_filters=320, kernel_size=3, num_repeat=1, expand_ratio=6, strides=(1, 1), se_ratio=0.25, id_skip=True, fused_conv=False, conv_type='depthwise')), stem_base_filters=32, top_base_filters=1280, activation='simple_swish', batch_norm='default', bn_momentum=0.99, bn_epsilon=0.001, weight_decay=5e-06, drop_connect_rate=0.2, depth_divisor=8, min_depth=None, use_se=True, input_channels=3, num_classes=1000, model_name='efficientnet', rescale_input=False, data_format='channels_last', dtype='float32')\n",
      "I0528 04:05:01.285291 139945622009728 ssd_efficientnet_bifpn_feature_extractor.py:143] EfficientDet EfficientNet backbone version: efficientnet-b5\n",
      "I0528 04:05:01.285493 139945622009728 ssd_efficientnet_bifpn_feature_extractor.py:144] EfficientDet BiFPN num filters: 288\n",
      "I0528 04:05:01.285571 139945622009728 ssd_efficientnet_bifpn_feature_extractor.py:146] EfficientDet BiFPN num iterations: 7\n",
      "I0528 04:05:01.287217 139945622009728 efficientnet_model.py:147] round_filter input=32 output=48\n",
      "I0528 04:05:01.306113 139945622009728 efficientnet_model.py:147] round_filter input=32 output=48\n",
      "I0528 04:05:01.306315 139945622009728 efficientnet_model.py:147] round_filter input=16 output=24\n",
      "I0528 04:05:01.494723 139945622009728 efficientnet_model.py:147] round_filter input=16 output=24\n",
      "I0528 04:05:01.494909 139945622009728 efficientnet_model.py:147] round_filter input=24 output=40\n",
      "I0528 04:05:01.884246 139945622009728 efficientnet_model.py:147] round_filter input=24 output=40\n",
      "I0528 04:05:01.884449 139945622009728 efficientnet_model.py:147] round_filter input=40 output=64\n",
      "I0528 04:05:02.275288 139945622009728 efficientnet_model.py:147] round_filter input=40 output=64\n",
      "I0528 04:05:02.275507 139945622009728 efficientnet_model.py:147] round_filter input=80 output=128\n",
      "I0528 04:05:02.824183 139945622009728 efficientnet_model.py:147] round_filter input=80 output=128\n",
      "I0528 04:05:02.824378 139945622009728 efficientnet_model.py:147] round_filter input=112 output=176\n",
      "I0528 04:05:03.467097 139945622009728 efficientnet_model.py:147] round_filter input=112 output=176\n",
      "I0528 04:05:03.467273 139945622009728 efficientnet_model.py:147] round_filter input=192 output=304\n",
      "I0528 04:05:04.440940 139945622009728 efficientnet_model.py:147] round_filter input=192 output=304\n",
      "I0528 04:05:04.441113 139945622009728 efficientnet_model.py:147] round_filter input=320 output=512\n",
      "I0528 04:05:05.083098 139945622009728 efficientnet_model.py:147] round_filter input=1280 output=2048\n",
      "I0528 04:05:05.158834 139945622009728 efficientnet_model.py:458] Building model efficientnet with params ModelConfig(width_coefficient=1.6, depth_coefficient=2.2, resolution=456, dropout_rate=0.4, blocks=(BlockConfig(input_filters=32, output_filters=16, kernel_size=3, num_repeat=1, expand_ratio=1, strides=(1, 1), se_ratio=0.25, id_skip=True, fused_conv=False, conv_type='depthwise'), BlockConfig(input_filters=16, output_filters=24, kernel_size=3, num_repeat=2, expand_ratio=6, strides=(2, 2), se_ratio=0.25, id_skip=True, fused_conv=False, conv_type='depthwise'), BlockConfig(input_filters=24, output_filters=40, kernel_size=5, num_repeat=2, expand_ratio=6, strides=(2, 2), se_ratio=0.25, id_skip=True, fused_conv=False, conv_type='depthwise'), BlockConfig(input_filters=40, output_filters=80, kernel_size=3, num_repeat=3, expand_ratio=6, strides=(2, 2), se_ratio=0.25, id_skip=True, fused_conv=False, conv_type='depthwise'), BlockConfig(input_filters=80, output_filters=112, kernel_size=5, num_repeat=3, expand_ratio=6, strides=(1, 1), se_ratio=0.25, id_skip=True, fused_conv=False, conv_type='depthwise'), BlockConfig(input_filters=112, output_filters=192, kernel_size=5, num_repeat=4, expand_ratio=6, strides=(2, 2), se_ratio=0.25, id_skip=True, fused_conv=False, conv_type='depthwise'), BlockConfig(input_filters=192, output_filters=320, kernel_size=3, num_repeat=1, expand_ratio=6, strides=(1, 1), se_ratio=0.25, id_skip=True, fused_conv=False, conv_type='depthwise')), stem_base_filters=32, top_base_filters=1280, activation='simple_swish', batch_norm='default', bn_momentum=0.99, bn_epsilon=0.001, weight_decay=5e-06, drop_connect_rate=0.2, depth_divisor=8, min_depth=None, use_se=True, input_channels=3, num_classes=1000, model_name='efficientnet', rescale_input=False, data_format='channels_last', dtype='float32')\n",
      "I0528 04:05:05.255576 139945622009728 ssd_efficientnet_bifpn_feature_extractor.py:143] EfficientDet EfficientNet backbone version: efficientnet-b6\n",
      "I0528 04:05:05.255760 139945622009728 ssd_efficientnet_bifpn_feature_extractor.py:144] EfficientDet BiFPN num filters: 384\n",
      "I0528 04:05:05.255824 139945622009728 ssd_efficientnet_bifpn_feature_extractor.py:146] EfficientDet BiFPN num iterations: 8\n",
      "I0528 04:05:05.257577 139945622009728 efficientnet_model.py:147] round_filter input=32 output=56\n",
      "I0528 04:05:05.273138 139945622009728 efficientnet_model.py:147] round_filter input=32 output=56\n",
      "I0528 04:05:05.273283 139945622009728 efficientnet_model.py:147] round_filter input=16 output=32\n",
      "I0528 04:05:05.500680 139945622009728 efficientnet_model.py:147] round_filter input=16 output=32\n",
      "I0528 04:05:05.500865 139945622009728 efficientnet_model.py:147] round_filter input=24 output=40\n",
      "I0528 04:05:05.946717 139945622009728 efficientnet_model.py:147] round_filter input=24 output=40\n",
      "I0528 04:05:05.946900 139945622009728 efficientnet_model.py:147] round_filter input=40 output=72\n",
      "I0528 04:05:06.426290 139945622009728 efficientnet_model.py:147] round_filter input=40 output=72\n",
      "I0528 04:05:06.426494 139945622009728 efficientnet_model.py:147] round_filter input=80 output=144\n",
      "I0528 04:05:07.055560 139945622009728 efficientnet_model.py:147] round_filter input=80 output=144\n",
      "I0528 04:05:07.055735 139945622009728 efficientnet_model.py:147] round_filter input=112 output=200\n",
      "I0528 04:05:07.862049 139945622009728 efficientnet_model.py:147] round_filter input=112 output=200\n",
      "I0528 04:05:07.862254 139945622009728 efficientnet_model.py:147] round_filter input=192 output=344\n",
      "I0528 04:05:09.127616 139945622009728 efficientnet_model.py:147] round_filter input=192 output=344\n",
      "I0528 04:05:09.127797 139945622009728 efficientnet_model.py:147] round_filter input=320 output=576\n",
      "I0528 04:05:09.646316 139945622009728 efficientnet_model.py:147] round_filter input=1280 output=2304\n",
      "I0528 04:05:09.729760 139945622009728 efficientnet_model.py:458] Building model efficientnet with params ModelConfig(width_coefficient=1.8, depth_coefficient=2.6, resolution=528, dropout_rate=0.5, blocks=(BlockConfig(input_filters=32, output_filters=16, kernel_size=3, num_repeat=1, expand_ratio=1, strides=(1, 1), se_ratio=0.25, id_skip=True, fused_conv=False, conv_type='depthwise'), BlockConfig(input_filters=16, output_filters=24, kernel_size=3, num_repeat=2, expand_ratio=6, strides=(2, 2), se_ratio=0.25, id_skip=True, fused_conv=False, conv_type='depthwise'), BlockConfig(input_filters=24, output_filters=40, kernel_size=5, num_repeat=2, expand_ratio=6, strides=(2, 2), se_ratio=0.25, id_skip=True, fused_conv=False, conv_type='depthwise'), BlockConfig(input_filters=40, output_filters=80, kernel_size=3, num_repeat=3, expand_ratio=6, strides=(2, 2), se_ratio=0.25, id_skip=True, fused_conv=False, conv_type='depthwise'), BlockConfig(input_filters=80, output_filters=112, kernel_size=5, num_repeat=3, expand_ratio=6, strides=(1, 1), se_ratio=0.25, id_skip=True, fused_conv=False, conv_type='depthwise'), BlockConfig(input_filters=112, output_filters=192, kernel_size=5, num_repeat=4, expand_ratio=6, strides=(2, 2), se_ratio=0.25, id_skip=True, fused_conv=False, conv_type='depthwise'), BlockConfig(input_filters=192, output_filters=320, kernel_size=3, num_repeat=1, expand_ratio=6, strides=(1, 1), se_ratio=0.25, id_skip=True, fused_conv=False, conv_type='depthwise')), stem_base_filters=32, top_base_filters=1280, activation='simple_swish', batch_norm='default', bn_momentum=0.99, bn_epsilon=0.001, weight_decay=5e-06, drop_connect_rate=0.2, depth_divisor=8, min_depth=None, use_se=True, input_channels=3, num_classes=1000, model_name='efficientnet', rescale_input=False, data_format='channels_last', dtype='float32')\n",
      "I0528 04:05:09.838267 139945622009728 ssd_efficientnet_bifpn_feature_extractor.py:143] EfficientDet EfficientNet backbone version: efficientnet-b7\n",
      "I0528 04:05:09.838455 139945622009728 ssd_efficientnet_bifpn_feature_extractor.py:144] EfficientDet BiFPN num filters: 384\n",
      "I0528 04:05:09.838519 139945622009728 ssd_efficientnet_bifpn_feature_extractor.py:146] EfficientDet BiFPN num iterations: 8\n",
      "I0528 04:05:09.840182 139945622009728 efficientnet_model.py:147] round_filter input=32 output=64\n",
      "I0528 04:05:09.854979 139945622009728 efficientnet_model.py:147] round_filter input=32 output=64\n",
      "I0528 04:05:09.855128 139945622009728 efficientnet_model.py:147] round_filter input=16 output=32\n",
      "I0528 04:05:10.387470 139945622009728 efficientnet_model.py:147] round_filter input=16 output=32\n",
      "I0528 04:05:10.387652 139945622009728 efficientnet_model.py:147] round_filter input=24 output=48\n",
      "I0528 04:05:10.897355 139945622009728 efficientnet_model.py:147] round_filter input=24 output=48\n",
      "I0528 04:05:10.897570 139945622009728 efficientnet_model.py:147] round_filter input=40 output=80\n",
      "I0528 04:05:11.496253 139945622009728 efficientnet_model.py:147] round_filter input=40 output=80\n",
      "I0528 04:05:11.496458 139945622009728 efficientnet_model.py:147] round_filter input=80 output=160\n",
      "I0528 04:05:12.356523 139945622009728 efficientnet_model.py:147] round_filter input=80 output=160\n",
      "I0528 04:05:12.356700 139945622009728 efficientnet_model.py:147] round_filter input=112 output=224\n",
      "I0528 04:05:13.259573 139945622009728 efficientnet_model.py:147] round_filter input=112 output=224\n",
      "I0528 04:05:13.259752 139945622009728 efficientnet_model.py:147] round_filter input=192 output=384\n",
      "I0528 04:05:14.916155 139945622009728 efficientnet_model.py:147] round_filter input=192 output=384\n",
      "I0528 04:05:14.916363 139945622009728 efficientnet_model.py:147] round_filter input=320 output=640\n",
      "I0528 04:05:15.723876 139945622009728 efficientnet_model.py:147] round_filter input=1280 output=2560\n",
      "I0528 04:05:15.811349 139945622009728 efficientnet_model.py:458] Building model efficientnet with params ModelConfig(width_coefficient=2.0, depth_coefficient=3.1, resolution=600, dropout_rate=0.5, blocks=(BlockConfig(input_filters=32, output_filters=16, kernel_size=3, num_repeat=1, expand_ratio=1, strides=(1, 1), se_ratio=0.25, id_skip=True, fused_conv=False, conv_type='depthwise'), BlockConfig(input_filters=16, output_filters=24, kernel_size=3, num_repeat=2, expand_ratio=6, strides=(2, 2), se_ratio=0.25, id_skip=True, fused_conv=False, conv_type='depthwise'), BlockConfig(input_filters=24, output_filters=40, kernel_size=5, num_repeat=2, expand_ratio=6, strides=(2, 2), se_ratio=0.25, id_skip=True, fused_conv=False, conv_type='depthwise'), BlockConfig(input_filters=40, output_filters=80, kernel_size=3, num_repeat=3, expand_ratio=6, strides=(2, 2), se_ratio=0.25, id_skip=True, fused_conv=False, conv_type='depthwise'), BlockConfig(input_filters=80, output_filters=112, kernel_size=5, num_repeat=3, expand_ratio=6, strides=(1, 1), se_ratio=0.25, id_skip=True, fused_conv=False, conv_type='depthwise'), BlockConfig(input_filters=112, output_filters=192, kernel_size=5, num_repeat=4, expand_ratio=6, strides=(2, 2), se_ratio=0.25, id_skip=True, fused_conv=False, conv_type='depthwise'), BlockConfig(input_filters=192, output_filters=320, kernel_size=3, num_repeat=1, expand_ratio=6, strides=(1, 1), se_ratio=0.25, id_skip=True, fused_conv=False, conv_type='depthwise')), stem_base_filters=32, top_base_filters=1280, activation='simple_swish', batch_norm='default', bn_momentum=0.99, bn_epsilon=0.001, weight_decay=5e-06, drop_connect_rate=0.2, depth_divisor=8, min_depth=None, use_se=True, input_channels=3, num_classes=1000, model_name='efficientnet', rescale_input=False, data_format='channels_last', dtype='float32')\n",
      "INFO:tensorflow:time(__main__.ModelBuilderTF2Test.test_create_ssd_models_from_config): 26.18s\n",
      "I0528 04:05:16.110167 139945622009728 test_util.py:2103] time(__main__.ModelBuilderTF2Test.test_create_ssd_models_from_config): 26.18s\n",
      "[       OK ] ModelBuilderTF2Test.test_create_ssd_models_from_config\n",
      "[ RUN      ] ModelBuilderTF2Test.test_invalid_faster_rcnn_batchnorm_update\n",
      "INFO:tensorflow:time(__main__.ModelBuilderTF2Test.test_invalid_faster_rcnn_batchnorm_update): 0.0s\n",
      "I0528 04:05:16.117190 139945622009728 test_util.py:2103] time(__main__.ModelBuilderTF2Test.test_invalid_faster_rcnn_batchnorm_update): 0.0s\n",
      "[       OK ] ModelBuilderTF2Test.test_invalid_faster_rcnn_batchnorm_update\n",
      "[ RUN      ] ModelBuilderTF2Test.test_invalid_first_stage_nms_iou_threshold\n",
      "INFO:tensorflow:time(__main__.ModelBuilderTF2Test.test_invalid_first_stage_nms_iou_threshold): 0.0s\n",
      "I0528 04:05:16.119093 139945622009728 test_util.py:2103] time(__main__.ModelBuilderTF2Test.test_invalid_first_stage_nms_iou_threshold): 0.0s\n",
      "[       OK ] ModelBuilderTF2Test.test_invalid_first_stage_nms_iou_threshold\n",
      "[ RUN      ] ModelBuilderTF2Test.test_invalid_model_config_proto\n",
      "INFO:tensorflow:time(__main__.ModelBuilderTF2Test.test_invalid_model_config_proto): 0.0s\n",
      "I0528 04:05:16.119648 139945622009728 test_util.py:2103] time(__main__.ModelBuilderTF2Test.test_invalid_model_config_proto): 0.0s\n",
      "[       OK ] ModelBuilderTF2Test.test_invalid_model_config_proto\n",
      "[ RUN      ] ModelBuilderTF2Test.test_invalid_second_stage_batch_size\n",
      "INFO:tensorflow:time(__main__.ModelBuilderTF2Test.test_invalid_second_stage_batch_size): 0.0s\n",
      "I0528 04:05:16.121455 139945622009728 test_util.py:2103] time(__main__.ModelBuilderTF2Test.test_invalid_second_stage_batch_size): 0.0s\n",
      "[       OK ] ModelBuilderTF2Test.test_invalid_second_stage_batch_size\n",
      "[ RUN      ] ModelBuilderTF2Test.test_session\n",
      "[  SKIPPED ] ModelBuilderTF2Test.test_session\n",
      "[ RUN      ] ModelBuilderTF2Test.test_unknown_faster_rcnn_feature_extractor\n",
      "INFO:tensorflow:time(__main__.ModelBuilderTF2Test.test_unknown_faster_rcnn_feature_extractor): 0.0s\n",
      "I0528 04:05:16.122857 139945622009728 test_util.py:2103] time(__main__.ModelBuilderTF2Test.test_unknown_faster_rcnn_feature_extractor): 0.0s\n",
      "[       OK ] ModelBuilderTF2Test.test_unknown_faster_rcnn_feature_extractor\n",
      "[ RUN      ] ModelBuilderTF2Test.test_unknown_meta_architecture\n",
      "INFO:tensorflow:time(__main__.ModelBuilderTF2Test.test_unknown_meta_architecture): 0.0s\n",
      "I0528 04:05:16.123264 139945622009728 test_util.py:2103] time(__main__.ModelBuilderTF2Test.test_unknown_meta_architecture): 0.0s\n",
      "[       OK ] ModelBuilderTF2Test.test_unknown_meta_architecture\n",
      "[ RUN      ] ModelBuilderTF2Test.test_unknown_ssd_feature_extractor\n",
      "INFO:tensorflow:time(__main__.ModelBuilderTF2Test.test_unknown_ssd_feature_extractor): 0.0s\n",
      "I0528 04:05:16.124283 139945622009728 test_util.py:2103] time(__main__.ModelBuilderTF2Test.test_unknown_ssd_feature_extractor): 0.0s\n",
      "[       OK ] ModelBuilderTF2Test.test_unknown_ssd_feature_extractor\n",
      "----------------------------------------------------------------------\n",
      "Ran 21 tests in 27.871s\n",
      "\n",
      "OK (skipped=1)\n",
      "Done\n"
     ]
    }
   ],
   "source": [
    "#cd into 'TensorFlow/models/research/object_detection/builders/'\n",
    "%cd '/content/drive/My Drive/TensorFlow/models/research/object_detection/builders/'\n",
    "!python model_builder_tf2_test.py\n",
    "from object_detection.utils import label_map_util\n",
    "from object_detection.utils import visualization_utils as viz_utils\n",
    "print('Done')"
   ]
  }
 ],
 "metadata": {
  "accelerator": "GPU",
  "colab": {
   "collapsed_sections": [],
   "name": "PPE_TensorFlow_Object_Detection_API.ipynb",
   "provenance": [],
   "toc_visible": true
  },
  "kernelspec": {
   "display_name": "Python 3",
   "language": "python",
   "name": "python3"
  },
  "language_info": {
   "codemirror_mode": {
    "name": "ipython",
    "version": 3
   },
   "file_extension": ".py",
   "mimetype": "text/x-python",
   "name": "python",
   "nbconvert_exporter": "python",
   "pygments_lexer": "ipython3",
   "version": "3.8.5"
  }
 },
 "nbformat": 4,
 "nbformat_minor": 1
}
